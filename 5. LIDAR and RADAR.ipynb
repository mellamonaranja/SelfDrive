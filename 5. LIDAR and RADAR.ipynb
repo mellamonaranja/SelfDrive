{
 "cells": [
  {
   "cell_type": "code",
   "execution_count": 1,
   "id": "ab2171e2-1d76-40af-8178-700835a2e78e",
   "metadata": {
    "tags": []
   },
   "outputs": [
    {
     "name": "stdout",
     "output_type": "stream",
     "text": [
      "Jupyter environment detected. Enabling Open3D WebVisualizer.\n",
      "[Open3D INFO] WebRTC GUI backend enabled.\n",
      "[Open3D INFO] WebRTCWindowSystem: HTTP handshake server disabled.\n"
     ]
    }
   ],
   "source": [
    "import carla \n",
    "import math \n",
    "import random \n",
    "import time \n",
    "import numpy as np\n",
    "import cv2\n",
    "import open3d as o3d\n",
    "from matplotlib import cm"
   ]
  },
  {
   "cell_type": "code",
   "execution_count": 2,
   "id": "3ae9dbfb-a7dd-4696-b0e9-7394d7f09970",
   "metadata": {
    "tags": []
   },
   "outputs": [],
   "source": [
    "client=carla.Client('localhost',2000)\n",
    "world=client.get_world()\n",
    "bp_lib=world.get_blueprint_library()\n",
    "spawn_points=world.get_map().get_spawn_points()"
   ]
  },
  {
   "cell_type": "code",
   "execution_count": 3,
   "id": "de326b4d-da63-4463-8395-3c64b5251865",
   "metadata": {
    "tags": []
   },
   "outputs": [],
   "source": [
    "# add vehicle\n",
    "vehicle_bp=bp_lib.find('vehicle.lincoln.mkz_2020')\n",
    "vehicle=world.try_spawn_actor(vehicle_bp, spawn_points[79])"
   ]
  },
  {
   "cell_type": "code",
   "execution_count": 4,
   "id": "4adce368-cb66-4f0f-bfb0-5ad6258b8a2e",
   "metadata": {
    "tags": []
   },
   "outputs": [],
   "source": [
    "# move spectator to view ego vehicle\n",
    "spectator=world.get_spectator()\n",
    "transform=carla.Transform(vehicle.get_transform().transform(carla.Location(x=-4, z=2.5)), vehicle.get_transform().rotation)\n",
    "spectator.set_transform(transform)"
   ]
  },
  {
   "cell_type": "code",
   "execution_count": 5,
   "id": "f05addc1-d475-4735-8248-fe28d5ff6be0",
   "metadata": {
    "tags": []
   },
   "outputs": [],
   "source": [
    "# Add traffic and set in motion with Traffic Manager\n",
    "\n",
    "for i in range(100):\n",
    "    vehicle_bp=random.choice(bp_lib.filter('vehicle'))\n",
    "    npc=world.try_spawn_actor(vehicle_bp, random.choice(spawn_points))\n",
    "for v in world.get_actors().filter('*vehicle*'):\n",
    "    v.set_autopilot(True)"
   ]
  },
  {
   "cell_type": "code",
   "execution_count": 6,
   "id": "c673c315-ed8a-4bfc-97fb-cefd41d6bf1e",
   "metadata": {
    "tags": []
   },
   "outputs": [
    {
     "name": "stdout",
     "output_type": "stream",
     "text": [
      "(256, 3)\n"
     ]
    }
   ],
   "source": [
    "# auxiliary code for colormaps and axes\n",
    "\n",
    "VIRIDIS = np.array(cm.get_cmap('plasma').colors)\n",
    "print(VIRIDIS.shape)\n",
    "# print(VIRIDIS.shape[0])\n",
    "VID_RANGE = np.linspace(0.0, 1.0, VIRIDIS.shape[0])\n",
    "\n",
    "COOL_RANGE = np.linspace(0.0, 1.0, VIRIDIS.shape[0])\n",
    "COOL = np.array(cm.get_cmap('winter')(COOL_RANGE))\n",
    "COOL = COOL[:,:3]\n",
    "# print(COOL[0:10])"
   ]
  },
  {
   "cell_type": "markdown",
   "id": "5070dbd5-3d1e-4305-9e27-bfdd2fac8c4e",
   "metadata": {},
   "source": [
    "# open3d\n",
    "     is an open-source library that supports rapid development of software that deals with 3D data.\n",
    "     \n",
    "# LineSet\n",
    "    define a sets of lines in 3D. A typical application is to display the point cloud correspondence pairs.\n",
    "    \n",
    "# classopen3d.utility.Vector3dVector\n",
    "    Convert float64 numpy array of shape (n, 3) to Open3D format.\n",
    "    \n",
    "# open3d.add_geometry(self, geometry, reset_bounding_box=True)\n",
    "    Function to add geometry to the scene and create corresponding shaders-In computer graphics, a shader is a computer program that calculates the appropriate levels of light, darkness, and color during the rendering of a 3D scene—a process known as shading.\n",
    "    \n",
    "# numpy.interp\n",
    "    "
   ]
  },
  {
   "cell_type": "code",
   "execution_count": 7,
   "id": "5eb2add2-4649-4295-a473-903e38aa9434",
   "metadata": {
    "tags": []
   },
   "outputs": [],
   "source": [
    "def add_open3d_axis(vis):\n",
    "    \"\"\"Add a small 3D axis on Open3D Visualizer\"\"\"\n",
    "    axis = o3d.geometry.LineSet()\n",
    "    axis.points = o3d.utility.Vector3dVector(np.array([\n",
    "        [0.0, 0.0, 0.0],\n",
    "        [1.0, 0.0, 0.0],\n",
    "        [0.0, 1.0, 0.0],\n",
    "        [0.0, 0.0, 1.0]]))\n",
    "    axis.lines = o3d.utility.Vector2iVector(np.array([\n",
    "        [0, 1],\n",
    "        [0, 2],\n",
    "        [0, 3]]))\n",
    "    axis.colors = o3d.utility.Vector3dVector(np.array([\n",
    "        [1.0, 0.0, 0.0],\n",
    "        [0.0, 1.0, 0.0],\n",
    "        [0.0, 0.0, 1.0]]))\n",
    "    vis.add_geometry(axis)"
   ]
  },
  {
   "cell_type": "code",
   "execution_count": 8,
   "id": "3d373055-9cd7-4f15-a351-400b13262a9b",
   "metadata": {
    "tags": []
   },
   "outputs": [],
   "source": [
    "# LIDAR and RADAR callbacks\n",
    "\n",
    "def lidar_callback(point_cloud, point_list):\n",
    "    \"\"\"Prepares a point cloud with intensity\n",
    "    colors ready to be consumed by Open3D\"\"\"\n",
    "    data = np.copy(np.frombuffer(point_cloud.raw_data, dtype=np.dtype('f4')))\n",
    "    # print('data shape is ',data.shape[0])\n",
    "    data = np.reshape(data, (int(data.shape[0] / 4), 4))\n",
    "    \n",
    "    # Isolate the intensity and compute a color for it\n",
    "    intensity = data[:, -1]\n",
    "    intensity_col = 1.0 - np.log(intensity) / np.log(np.exp(-0.004 * 100)) #why is this calculation???\n",
    "    # print('intensity_col:',intensity_col[0])\n",
    "    \n",
    "    int_color = np.c_[\n",
    "        np.interp(intensity_col, VID_RANGE, VIRIDIS[:, 0]),\n",
    "        np.interp(intensity_col, VID_RANGE, VIRIDIS[:, 1]),\n",
    "        np.interp(intensity_col, VID_RANGE, VIRIDIS[:, 2])]\n",
    "\n",
    "    \n",
    "    points = data[:, :-1] #why -1???\n",
    "    points[:, :1] = -points[:, :1] #why deverse???\n",
    "    \n",
    "    point_list.points = o3d.utility.Vector3dVector(points) #the shape???\n",
    "    # print('point_list.points : ',point_list.points)\n",
    "    point_list.colors = o3d.utility.Vector3dVector(int_color)\n",
    "    \n",
    "def radar_callback(data, point_list):\n",
    "    radar_data = np.zeros((len(data), 4))\n",
    "    \n",
    "    for i, detection in enumerate(data): #how it can know depth, altitude, velocity from detection?\n",
    "        x = detection.depth * math.cos(detection.altitude) * math.cos(detection.azimuth)\n",
    "        y = detection.depth * math.cos(detection.altitude) * math.sin(detection.azimuth)\n",
    "        z = detection.depth * math.sin(detection.altitude)\n",
    "        \n",
    "        radar_data[i, :] = [x, y, z, detection.velocity]\n",
    "    \n",
    "    intensity = np.abs(radar_data[:, -1])\n",
    "    intensity_col = 1.0 - np.log(intensity) / np.log(np.exp(-0.004 * 100))\n",
    "    # print('intensity_col is ',intensity_col[0])\n",
    "    \n",
    "    int_color = np.c_[\n",
    "        np.interp(intensity_col, COOL_RANGE, COOL[:, 0]),\n",
    "        np.interp(intensity_col, COOL_RANGE, COOL[:, 1]),\n",
    "        np.interp(intensity_col, COOL_RANGE, COOL[:, 2])]\n",
    "    \n",
    "    points = radar_data[:, :-1]\n",
    "    points[:, :1] = -points[:, :1]\n",
    "    \n",
    "    point_list.points = o3d.utility.Vector3dVector(points)\n",
    "    point_list.colors = o3d.utility.Vector3dVector(int_color)\n",
    "    \n",
    "#camera callback\n",
    "\n",
    "def camera_callback(image, data_dict):\n",
    "    data_dict['image'] = np.reshape(np.copy(image.raw_data), (image.height, image.width, 4)) "
   ]
  },
  {
   "cell_type": "markdown",
   "id": "66cab1e3-e360-4206-a55a-33de3b884a90",
   "metadata": {},
   "source": [
    "# open3d.geometry.PointCloud()\n",
    "    The pointCloud object creates point cloud data from a set of points in 3-D coordinate system. The points generally represent the x,y, and z geometric coordinates for samples on a surface or of an environment. Each point can also be represented with additional information, such as the RGB color"
   ]
  },
  {
   "cell_type": "code",
   "execution_count": 9,
   "id": "c16ca981-4ecc-48c4-ad64-055a35ec5782",
   "metadata": {
    "tags": []
   },
   "outputs": [],
   "source": [
    "#set up Lidar and Radar, parameters are to assist visualization\n",
    "\n",
    "lidar_bp=bp_lib.find('sensor.lidar.ray_cast')\n",
    "lidar_bp.set_attribute('range','100.0')\n",
    "lidar_bp.set_attribute('noise_stddev', '0.1')\n",
    "lidar_bp.set_attribute('upper_fov', '15.0')\n",
    "lidar_bp.set_attribute('lower_fov', '-25.0')\n",
    "lidar_bp.set_attribute('channels', '64.0')\n",
    "lidar_bp.set_attribute('rotation_frequency', '20.0')\n",
    "lidar_bp.set_attribute('points_per_second', '500000')\n",
    "\n",
    "lidar_init_trans=carla.Transform(carla.Location(z=2))\n",
    "# lidar = world.spawn_actor(lidar_bp, lidar_init_trans, attach_to=vehicle)\n",
    "lidar = world.spawn_actor(lidar_bp, lidar_init_trans)\n",
    "\n",
    "radar_bp=bp_lib.find('sensor.other.radar')\n",
    "radar_bp.set_attribute('horizontal_fov', '30.0')\n",
    "radar_bp.set_attribute('vertical_fov', '30.0')\n",
    "radar_bp.set_attribute('points_per_second', '10000')\n",
    "\n",
    "radar_init_trans=carla.Transform(carla.Location(z=2))\n",
    "# # radar=world.spawn_actor(radar_bp, radar_init_trans, attach_to=vehicle)\n",
    "radar=world.spawn_actor(radar_bp, radar_init_trans)"
   ]
  },
  {
   "cell_type": "code",
   "execution_count": 10,
   "id": "dde4c5a4-0db0-4d65-a26f-2618daab848a",
   "metadata": {
    "tags": []
   },
   "outputs": [],
   "source": [
    "#spawn camera\n",
    "camera_bp = bp_lib.find('sensor.camera.rgb') \n",
    "camera_init_trans = carla.Transform(carla.Location(z=2.5, x=-3), carla.Rotation())\n",
    "# camera = world.spawn_actor(camera_bp, camera_init_trans, attach_to=vehicle)\n",
    "camera = world.spawn_actor(camera_bp, camera_init_trans)\n",
    "\n",
    "#add auxiliary data structures\n",
    "point_list=o3d.geometry.PointCloud()\n",
    "radar_list=o3d.geometry.PointCloud()\n",
    "\n",
    "#set up dictionary for camera data\n",
    "image_w = camera_bp.get_attribute(\"image_size_x\").as_int()\n",
    "image_h = camera_bp.get_attribute(\"image_size_y\").as_int()\n",
    "camera_data = {'image': np.zeros((image_h, image_w, 4))} #why dict?\n"
   ]
  },
  {
   "cell_type": "code",
   "execution_count": 11,
   "id": "d5640ccd-2a24-4499-9cb5-2d5298dc44f9",
   "metadata": {},
   "outputs": [
    {
     "name": "stderr",
     "output_type": "stream",
     "text": [
      "C:\\Users\\USER\\miniconda3\\envs\\carla-ex7\\lib\\site-packages\\ipykernel_launcher.py:39: RuntimeWarning: divide by zero encountered in log\n"
     ]
    }
   ],
   "source": [
    "#start sensors\n",
    "\n",
    "lidar.listen(lambda data:lidar_callback(data, point_list))\n",
    "radar.listen(lambda data:radar_callback(data, radar_list))\n",
    "camera.listen(lambda image:camera_callback(image, camera_data))"
   ]
  },
  {
   "cell_type": "code",
   "execution_count": 12,
   "id": "754aaaf9-c521-4a62-85ce-59aeab519b2f",
   "metadata": {
    "tags": []
   },
   "outputs": [
    {
     "name": "stderr",
     "output_type": "stream",
     "text": [
      "C:\\Users\\USER\\miniconda3\\envs\\carla-ex7\\lib\\site-packages\\ipykernel_launcher.py:39: RuntimeWarning: divide by zero encountered in log\n"
     ]
    }
   ],
   "source": [
    "cv2.namedWindow('RGB Camera', cv2.WINDOW_AUTOSIZE)\n",
    "img=camera_data['image']\n",
    "cv2.resize(img, dsize=(1280, 720), interpolation=cv2.INTER_AREA)\n",
    "cv2.imshow('RGB Camera', img)\n",
    "while True:\n",
    "    if cv2.waitKey(1) == ord('q'):\n",
    "        break\n",
    "# cv2.destroyAllWindows()"
   ]
  },
  {
   "cell_type": "code",
   "execution_count": 13,
   "id": "8150f614-84f0-49db-83fe-871f29e8b022",
   "metadata": {
    "tags": []
   },
   "outputs": [
    {
     "name": "stderr",
     "output_type": "stream",
     "text": [
      "C:\\Users\\USER\\miniconda3\\envs\\carla-ex7\\lib\\site-packages\\ipykernel_launcher.py:39: RuntimeWarning: divide by zero encountered in log\n"
     ]
    }
   ],
   "source": [
    "#open3d visualizer for lidar and radar\n",
    "\n",
    "vis = o3d.visualization.Visualizer()\n",
    "vis = o3d.visualization.Visualizer()\n",
    "vis.create_window(\n",
    "    window_name='Lidar, Radar',\n",
    "    width=960,\n",
    "    height=540,\n",
    "    left=480,\n",
    "    top=270)\n",
    "vis.get_render_option().background_color = [0.05, 0.05, 0.05]\n",
    "vis.get_render_option().point_size = 1\n",
    "vis.get_render_option().show_coordinate_frame = True\n",
    "add_open3d_axis(vis)\n"
   ]
  },
  {
   "cell_type": "code",
   "execution_count": 14,
   "id": "662b89c8-f9b7-4c8e-972d-9d1fff98e00e",
   "metadata": {},
   "outputs": [
    {
     "name": "stderr",
     "output_type": "stream",
     "text": [
      "C:\\Users\\USER\\miniconda3\\envs\\carla-ex7\\lib\\site-packages\\ipykernel_launcher.py:39: RuntimeWarning: divide by zero encountered in log\n"
     ]
    }
   ],
   "source": [
    "# update geometry and camera in game loop\n",
    "\n",
    "frame = 0\n",
    "while True:\n",
    "    if frame == 2:\n",
    "        vis.add_geometry(point_list)\n",
    "        vis.add_geometry(radar_list)\n",
    "    vis.update_geometry(point_list)\n",
    "    vis.update_geometry(radar_list)\n",
    "    \n",
    "    vis.poll_events()\n",
    "    vis.update_renderer()\n",
    "    # # This can fix Open3D jittering issues:\n",
    "    time.sleep(0.005)\n",
    "    frame += 1\n",
    "\n",
    "    cv2.imshow('RGB Camera', camera_data['image'])\n",
    "    \n",
    "    # Break if user presses 'q'\n",
    "    if cv2.waitKey(1) == ord('q'):\n",
    "        break"
   ]
  },
  {
   "cell_type": "code",
   "execution_count": 15,
   "id": "1ecde9b7-cc0d-4605-bc1c-87bc5bcea99e",
   "metadata": {
    "tags": []
   },
   "outputs": [],
   "source": [
    "#close displays and stop sensors\n",
    "\n",
    "cv2.destroyAllWindows()\n",
    "radar.stop()\n",
    "radar.destroy()\n",
    "lidar.stop()\n",
    "lidar.destroy()\n",
    "camera.stop()\n",
    "camera.destroy()\n",
    "vis.destroy_window()\n",
    "\n",
    "for actor in world.get_actors().filter('*vehicle*'):\n",
    "    actor.destroy()\n",
    "for actor in world.get_actors().filter('*sensor*'):\n",
    "    actor.destroy()"
   ]
  }
 ],
 "metadata": {
  "kernelspec": {
   "display_name": "Python 3 (ipykernel)",
   "language": "python",
   "name": "python3"
  },
  "language_info": {
   "codemirror_mode": {
    "name": "ipython",
    "version": 3
   },
   "file_extension": ".py",
   "mimetype": "text/x-python",
   "name": "python",
   "nbconvert_exporter": "python",
   "pygments_lexer": "ipython3",
   "version": "3.7.16"
  }
 },
 "nbformat": 4,
 "nbformat_minor": 5
}

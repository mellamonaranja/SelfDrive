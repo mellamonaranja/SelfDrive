{
 "cells": [
  {
   "cell_type": "markdown",
   "id": "cc4a0c12-42f5-4347-96cb-7a006f7c18b1",
   "metadata": {},
   "source": [
    "# WASD"
   ]
  },
  {
   "cell_type": "markdown",
   "id": "a843b5c8-5f0e-4801-9917-60581e82a134",
   "metadata": {},
   "source": [
    "# Actors\n",
    "    CARLA defines actors as anything that plays a role in the simulation or can be moved around. \n",
    "    \n",
    "    That includes: pedestrians, vehicles, sensors and traffic signs (considering traffic lights as part of these). \n",
    "    \n",
    "    Actors are spawned in the simulation by carla.World and they need for a carla.ActorBlueprint to be created. "
   ]
  },
  {
   "cell_type": "code",
   "execution_count": 1,
   "id": "785ce440",
   "metadata": {},
   "outputs": [
    {
     "name": "stdout",
     "output_type": "stream",
     "text": [
      "Requirement already satisfied: carla in c:\\users\\user\\miniconda3\\envs\\carla-ex7\\lib\\site-packages (0.9.14)\n"
     ]
    }
   ],
   "source": [
    "!pip install carla"
   ]
  },
  {
   "cell_type": "code",
   "execution_count": 1,
   "id": "e4ebf63d",
   "metadata": {},
   "outputs": [],
   "source": [
    "import carla\n",
    "import math\n",
    "import random\n",
    "import time"
   ]
  },
  {
   "cell_type": "markdown",
   "id": "fdc3208d-abae-4b78-95cf-3742749bdb7a",
   "metadata": {
    "tags": []
   },
   "source": [
    "# client : requires two arguments\n",
    "    first : ip address of the machine where you are running carla server, in this case, my local machine.\n",
    "    second : the port on which carla server is running, 2000 is the default"
   ]
  },
  {
   "cell_type": "code",
   "execution_count": 2,
   "id": "aa3f3940",
   "metadata": {},
   "outputs": [],
   "source": [
    "client=carla.Client('localhost', 2000)"
   ]
  },
  {
   "cell_type": "markdown",
   "id": "1a0f4c40-6cca-47d6-b4da-14f9c9cba473",
   "metadata": {},
   "source": [
    "# get_world\n",
    "        \n",
    "    allows to access all within the simulation so accessible vehicles, buildings, pedestrians, and other things in the map such as trees, traffic lights\n",
    "        "
   ]
  },
  {
   "cell_type": "code",
   "execution_count": 3,
   "id": "12c2b66d",
   "metadata": {},
   "outputs": [],
   "source": [
    "# it also allows us to add or spawn these objects\n",
    "\n",
    "world=client.get_world()"
   ]
  },
  {
   "cell_type": "markdown",
   "id": "448fa734-eaeb-4245-8614-2c806bf2a42f",
   "metadata": {
    "tags": []
   },
   "source": [
    "# The Blueprint Library (carla.BlueprintLibrary) is a summary of all carla.ActorBlueprint \n",
    "    blueprints = [bp for bp in world.get_blueprint_library().filter('*')]\n",
    "    \n",
    "    These layouts allow the user to smoothly incorporate new actors into the simulation.\n",
    "    They are already-made models with animations and a series of attributes.\n",
    "    \n",
    "    These attributes include vehicle color, amount of channels in a lidar sensor, a walker's speed, and much more"
   ]
  },
  {
   "cell_type": "code",
   "execution_count": 4,
   "id": "08752da8-097b-428f-ab10-176434960c96",
   "metadata": {
    "tags": []
   },
   "outputs": [],
   "source": [
    "# the blue print includes vehicles, boxes, kiosk or things you might find in the street, pedestrians\n",
    "\n",
    "bp_lib=world.get_blueprint_library()"
   ]
  },
  {
   "cell_type": "markdown",
   "id": "01d492e3-3356-46cc-9726-bc4c77bc085a",
   "metadata": {
    "tags": []
   },
   "source": [
    "# Spawning\n",
    "    The world object is responsible of spawning actors and keeping track of these. \n",
    "    Spawning only requires a blueprint, and a carla.Transform stating a location and rotation for the actor.\n",
    "\n",
    "# spawn_actor(self, blueprint, transform, attach_to=None, attachment=Rigid) : \n",
    "    shows some sensors being attached to a car when spawned.\n",
    "    \n",
    "    Spawns an actor into the world based on the blueprint provided and the transform.\n",
    "\n",
    "    spawn_actor() raises an exception if the spawning fails.\n",
    "    try_spawn_actor() returns None if the spawning fails."
   ]
  },
  {
   "cell_type": "markdown",
   "id": "5793faaf-881a-4ac3-87cf-7742be5219a3",
   "metadata": {},
   "source": [
    "# get_map\n",
    "    3D location which are set in sensible locations on the road so you can spawn your vehicles on the road that is pointing in the right direction.\n",
    "    \n",
    "    Returns a list of recommendations made by the creators of the map to be used as spawning points for the vehicles. \n",
    "    \n",
    "    The list includes carla.Transform objects with certain location and orientation. \n",
    "    \n",
    "# get_spawn_points\n",
    "    Returns a list of recommendations made by the creators of the map to be used as spawning points for the vehicles. The list includes carla.Transform objects with certain location and orientation."
   ]
  },
  {
   "cell_type": "code",
   "execution_count": 5,
   "id": "66541675-a91a-4cd0-b979-14bcb01a117d",
   "metadata": {
    "tags": []
   },
   "outputs": [],
   "source": [
    "spawn_points=world.get_map().get_spawn_points()"
   ]
  },
  {
   "cell_type": "code",
   "execution_count": 6,
   "id": "d816901b-f454-413b-ac6f-02ca484a8c51",
   "metadata": {
    "tags": []
   },
   "outputs": [],
   "source": [
    "# find the vehicle blueprint from the blueprint library\n",
    "# lets specifying a specific vehicle which I want to use 'lincoln mkz_2020'\n",
    "\n",
    "vehicle_bp=bp_lib.find('vehicle.lincoln.mkz_2020')"
   ]
  },
  {
   "cell_type": "code",
   "execution_count": 7,
   "id": "6624880b-f1f9-44c5-a9e5-d3eec5988140",
   "metadata": {
    "tags": []
   },
   "outputs": [],
   "source": [
    "# using the 'world object' to 'try_spawn_actor' method to spawn that specific vehicle\n",
    "# because when you spawn vehicles within simulation, it's not always necessarily going to work\n",
    "# Try spawning the vehicle at a randomly chosen spawn point\n",
    "\n",
    "vehicle=world.try_spawn_actor(vehicle_bp, random.choice(spawn_points))"
   ]
  },
  {
   "cell_type": "markdown",
   "id": "9ba4dcec-cb2f-4ff8-91dd-592e37f874ef",
   "metadata": {},
   "source": [
    "# carla.Transform(self, location, rotation) \n",
    "    Class that defines a transformation, a combination of location and rotation, without scaling.\n",
    "    \n",
    "# transform(self, in_point)\n",
    "    Translates a 3D point from local to global coordinates using the current transformation as frame of reference.\n",
    "    \n",
    "    in_point(carla.Location) : Location in the space to which the transformation will be applied.\n",
    "    \n",
    "# spectator\n",
    "     An in-game point of view. It can be used to move the view of the simulator window. \n",
    "    \n",
    "# get_spectator(self) \n",
    "    Returns the spectator actor. The spectator is a special type of actor created by Unreal Engine, usually with ID=0, that acts as a camera and controls the view in the simulator window.\n",
    "    \n",
    "# set_transform(self, transform)\n",
    "    Teleports the actor to a given transform (location and rotation).\n",
    "    \n",
    "# get_transform(self)\n",
    "    Returns the actor's transform (location and rotation) the client recieved during last tick."
   ]
  },
  {
   "cell_type": "code",
   "execution_count": 8,
   "id": "44e45ddd-54e8-4192-b11e-38e5c880aba6",
   "metadata": {
    "tags": []
   },
   "outputs": [],
   "source": [
    "# lets move the vehicle to the specific location which is going to take us just above and behind the car that I've just spawned\n",
    "\n",
    "spectator=world.get_spectator()\n",
    "\n",
    "# it will move the spectator to see right behind the vehicle that I just spawned so that I can see it \n",
    "\n",
    "transform=carla.Transform(vehicle.get_transform().transform(carla.Location(x=-4, z=2.5)), vehicle.get_transform().rotation)\n",
    "spectator.set_transform(transform)\n",
    "\n"
   ]
  },
  {
   "cell_type": "code",
   "execution_count": 9,
   "id": "118b72b0-0fb3-47dc-b6c8-d2bc1cb1aadb",
   "metadata": {
    "tags": []
   },
   "outputs": [],
   "source": [
    "# add some more vehicles, randomly select vehicles from the blueprint library\n",
    "for i in range(30):\n",
    "    vehicle_bp=random.choice(bp_lib.filter('vehicle')) \n",
    "    npc=world.try_spawn_actor(vehicle_bp, random.choice(spawn_points))"
   ]
  },
  {
   "cell_type": "markdown",
   "id": "ee78acac-7d92-469d-aa20-d496c44488d9",
   "metadata": {},
   "source": [
    "# get_actors(self, actor_ids=None) :\n",
    "    Retrieves a list of carla.Actor elements, either using a list of IDs provided or just listing everyone on stage. If an ID does not correspond with any actor, it will be excluded from the list returned, meaning that both the list of IDs and the list of actors may have different lengths.\n",
    "\n",
    "    Parameters:\n",
    "    actor_ids (list) - The IDs of the actors being searched. By default it is set to None and returns every actor on scene.\n",
    "\n",
    "# set_autopilot(self, enabled=True, port=8000) :\n",
    "    Registers or deletes the vehicle from a Traffic Manager's list. When True, the Traffic Manager passed as parameter will move the vehicle around. The autopilot takes place client-side.\n",
    "    Parameters:\n",
    "    enabled (bool)\n",
    "    port (uint16) - The port of the TM-Server where the vehicle is to be registered or unlisted. If None is passed, it will consider a TM at default port 8000."
   ]
  },
  {
   "cell_type": "code",
   "execution_count": 10,
   "id": "b34bcfeb-7f1a-47c0-806e-31ceb26cdcc8",
   "metadata": {
    "tags": []
   },
   "outputs": [],
   "source": [
    "# by this, it will hand over control of each vehicles to the traffic manager and they will move around the city\n",
    "\n",
    "for v in world.get_actors().filter('*vehicle*'):\n",
    "    v.set_autopilot(True)"
   ]
  },
  {
   "cell_type": "code",
   "execution_count": 11,
   "id": "8c9c9a71-ad7d-4350-91ec-843109a776cd",
   "metadata": {
    "tags": []
   },
   "outputs": [],
   "source": [
    "# recording data using sensors\n",
    "\n",
    "camera_bp=bp_lib.find('sensor.camera.rgb')\n",
    "camera_init_trans=carla.Transform(carla.Location(z=2))\n",
    "camera = world.spawn_actor(camera_bp, camera_init_trans, attach_to=vehicle) #record the data"
   ]
  },
  {
   "cell_type": "markdown",
   "id": "8d864c60-e4c7-4b9a-997e-16d4bfce0e1f",
   "metadata": {},
   "source": [
    "### listen(self, callback) \n",
    "### The function the sensor will be calling to every time a new measurement is received."
   ]
  },
  {
   "cell_type": "code",
   "execution_count": 12,
   "id": "6722aa9d-3fb5-42b6-93ff-58f2bebd2bf6",
   "metadata": {},
   "outputs": [],
   "source": [
    "# start the camera saving data to disk\n",
    "cc = carla.ColorConverter.CityScapesPalette\n",
    "camera.listen(lambda image:image.save_to_disk('output/%06d.png' % image.frame, cc))"
   ]
  },
  {
   "cell_type": "code",
   "execution_count": 18,
   "id": "85f177fa-8523-4c36-b075-9188fa71ffe7",
   "metadata": {
    "tags": []
   },
   "outputs": [],
   "source": [
    "# Stop the camera when we've recorded enough data\n",
    "camera.stop()"
   ]
  },
  {
   "cell_type": "code",
   "execution_count": 14,
   "id": "1fe0a55d-35a4-4ad3-9067-06828e495090",
   "metadata": {
    "tags": []
   },
   "outputs": [],
   "source": [
    "# client.start_recorder(\"recording01.log\")"
   ]
  },
  {
   "cell_type": "code",
   "execution_count": 15,
   "id": "a8d4a882-cd67-460e-9f54-40040de8d5b4",
   "metadata": {
    "tags": []
   },
   "outputs": [],
   "source": [
    "# client.stop_recorder()"
   ]
  },
  {
   "cell_type": "code",
   "execution_count": 16,
   "id": "bfd5325d-c07e-4c12-992c-34409fc388aa",
   "metadata": {
    "tags": []
   },
   "outputs": [],
   "source": [
    "# client.show_recorder_file_info(\"recording01.log\")"
   ]
  },
  {
   "cell_type": "code",
   "execution_count": 17,
   "id": "a2f5095f-6346-4b89-ab22-bb3f81eb1723",
   "metadata": {
    "tags": []
   },
   "outputs": [],
   "source": [
    "# client.replay_file(\"./carla/Unreal/CarlaUE4/Saved/recording01.log\")"
   ]
  },
  {
   "cell_type": "code",
   "execution_count": 19,
   "id": "4c4a9c41-16ca-4550-bba8-ebdce85898e8",
   "metadata": {},
   "outputs": [],
   "source": [
    "for actor in world.get_actors().filter('*vehicle*'):\n",
    "    actor.destroy()"
   ]
  }
 ],
 "metadata": {
  "kernelspec": {
   "display_name": "Python 3 (ipykernel)",
   "language": "python",
   "name": "python3"
  },
  "language_info": {
   "codemirror_mode": {
    "name": "ipython",
    "version": 3
   },
   "file_extension": ".py",
   "mimetype": "text/x-python",
   "name": "python",
   "nbconvert_exporter": "python",
   "pygments_lexer": "ipython3",
   "version": "3.7.16"
  }
 },
 "nbformat": 4,
 "nbformat_minor": 5
}

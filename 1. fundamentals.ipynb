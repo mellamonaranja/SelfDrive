{
 "cells": [
  {
   "cell_type": "markdown",
   "id": "cc4a0c12-42f5-4347-96cb-7a006f7c18b1",
   "metadata": {},
   "source": [
    "# WASD"
   ]
  },
  {
   "cell_type": "markdown",
   "id": "a843b5c8-5f0e-4801-9917-60581e82a134",
   "metadata": {},
   "source": [
    "# Actors\n",
    "    Actors are the elements that perform actions within the simulation, and they can affect other actors.\n",
    "\n",
    "    They include vehicles, walkers, sensors, traffic signs, traffic lights and the spectator."
   ]
  },
  {
   "cell_type": "code",
   "execution_count": 1,
   "id": "785ce440",
   "metadata": {},
   "outputs": [
    {
     "name": "stdout",
     "output_type": "stream",
     "text": [
      "Requirement already satisfied: carla in c:\\users\\user\\miniconda3\\envs\\carla-ex7\\lib\\site-packages (0.9.14)\n"
     ]
    }
   ],
   "source": [
    "!pip install carla"
   ]
  },
  {
   "cell_type": "code",
   "execution_count": 2,
   "id": "e4ebf63d",
   "metadata": {},
   "outputs": [],
   "source": [
    "import carla\n",
    "import math\n",
    "import random\n",
    "import time"
   ]
  },
  {
   "cell_type": "markdown",
   "id": "fdc3208d-abae-4b78-95cf-3742749bdb7a",
   "metadata": {
    "tags": []
   },
   "source": [
    "# client : requires two arguments\n",
    "    first : ip address of the machine where you are running carla server, in this case, my local machine.\n",
    "    second : the port on which carla server is running, 2000 is the default"
   ]
  },
  {
   "cell_type": "code",
   "execution_count": 21,
   "id": "aa3f3940",
   "metadata": {},
   "outputs": [],
   "source": [
    "client=carla.Client('localhost', 2000)"
   ]
  },
  {
   "cell_type": "markdown",
   "id": "1a0f4c40-6cca-47d6-b4da-14f9c9cba473",
   "metadata": {},
   "source": [
    "# get_world\n",
    "        \n",
    "    allows to access all within the simulation so accessible vehicles, buildings, pedestrians, and other things in the map such as trees, traffic lights\n",
    "        "
   ]
  },
  {
   "cell_type": "code",
   "execution_count": 4,
   "id": "12c2b66d",
   "metadata": {},
   "outputs": [],
   "source": [
    "# it also allows us to add or spawn these objects\n",
    "\n",
    "world=client.get_world()"
   ]
  },
  {
   "cell_type": "markdown",
   "id": "448fa734-eaeb-4245-8614-2c806bf2a42f",
   "metadata": {
    "tags": []
   },
   "source": [
    "# The Blueprint Library (carla.BlueprintLibrary) is a summary of all carla.ActorBlueprint \n",
    "    blueprints = [bp for bp in world.get_blueprint_library().filter('*')]\n",
    "    \n",
    "    These layouts allow the user to smoothly incorporate new actors into the simulation.\n",
    "    They are already-made models with animations and a series of attributes.\n",
    "    \n",
    "    These attributes include vehicle color, amount of channels in a lidar sensor, a walker's speed, and much more"
   ]
  },
  {
   "cell_type": "code",
   "execution_count": 5,
   "id": "08752da8-097b-428f-ab10-176434960c96",
   "metadata": {
    "tags": []
   },
   "outputs": [],
   "source": [
    "# the blue print includes vehicles, boxes, kiosk or things you might find in the street, pedestrians\n",
    "\n",
    "bp_lib=world.get_blueprint_library()"
   ]
  },
  {
   "cell_type": "markdown",
   "id": "01d492e3-3356-46cc-9726-bc4c77bc085a",
   "metadata": {
    "tags": []
   },
   "source": [
    "# Spawning\n",
    "    The world object is responsible of spawning actors and keeping track of these. \n",
    "    Spawning only requires a blueprint, and a carla.Transform stating a location and rotation for the actor.\n",
    "\n",
    "### spawn_actor(self, blueprint, transform, attach_to=None, attachment=Rigid) : \n",
    "    shows some sensors being attached to a car when spawned\n",
    "\n",
    "    spawn_actor() raises an exception if the spawning fails.\n",
    "    try_spawn_actor() returns None if the spawning fails."
   ]
  },
  {
   "cell_type": "markdown",
   "id": "5793faaf-881a-4ac3-87cf-7742be5219a3",
   "metadata": {},
   "source": [
    "# get_map\n",
    "    3D location which are set in sensible locations on the road so you can spawn your vehicles on the road that is pointing in the right direction.\n",
    "    \n",
    "    Returns a list of recommendations made by the creators of the map to be used as spawning points for the vehicles. \n",
    "    \n",
    "    The list includes carla.Transform objects with certain location and orientation. "
   ]
  },
  {
   "cell_type": "code",
   "execution_count": 6,
   "id": "66541675-a91a-4cd0-b979-14bcb01a117d",
   "metadata": {
    "tags": []
   },
   "outputs": [],
   "source": [
    "spawn_points=world.get_map().get_spawn_points()"
   ]
  },
  {
   "cell_type": "code",
   "execution_count": 7,
   "id": "d816901b-f454-413b-ac6f-02ca484a8c51",
   "metadata": {
    "tags": []
   },
   "outputs": [],
   "source": [
    "# find the vehicle blueprint from the blueprint library\n",
    "# lets specifying a specific vehicle which I want to use 'lincoln mkz_2020'\n",
    "\n",
    "vehicle_bp=bp_lib.find('vehicle.lincoln.mkz_2020')"
   ]
  },
  {
   "cell_type": "code",
   "execution_count": 8,
   "id": "6624880b-f1f9-44c5-a9e5-d3eec5988140",
   "metadata": {
    "tags": []
   },
   "outputs": [],
   "source": [
    "# using the 'world object' to 'try_spawn_actor' method to spawn that specific vehicle\n",
    "# because when you spawn vehicles within simulation, it's not always necessarily going to work\n",
    "# Try spawning the vehicle at a randomly chosen spawn point\n",
    "\n",
    "vehicle=world.try_spawn_actor(vehicle_bp, random.choice(spawn_points))"
   ]
  },
  {
   "cell_type": "markdown",
   "id": "9ba4dcec-cb2f-4ff8-91dd-592e37f874ef",
   "metadata": {},
   "source": [
    "# carla.Transform(self, location, rotation) \n",
    "    Class that defines a transformation, a combination of location and rotation, without scaling."
   ]
  },
  {
   "cell_type": "markdown",
   "id": "22508715-195a-41bc-80e0-69892bdf08eb",
   "metadata": {
    "tags": []
   },
   "source": [
    "### spectator is the camera "
   ]
  },
  {
   "cell_type": "code",
   "execution_count": 9,
   "id": "44e45ddd-54e8-4192-b11e-38e5c880aba6",
   "metadata": {
    "tags": []
   },
   "outputs": [],
   "source": [
    "# lets move the vehicle to the specific location which is going to take us just above and behind the car that I've just spawned\n",
    "\n",
    "spectator=world.get_spectator()\n",
    "\n",
    "# it will move the spectator to see right behind the vehicle that I just spawned so that I can see it \n",
    "\n",
    "transform=carla.Transform(vehicle.get_transform().transform(carla.Location(x=-4, z=2.5)), vehicle.get_transform().rotation)\n",
    "spectator.set_transform(transform)"
   ]
  },
  {
   "cell_type": "code",
   "execution_count": 10,
   "id": "118b72b0-0fb3-47dc-b6c8-d2bc1cb1aadb",
   "metadata": {
    "tags": []
   },
   "outputs": [],
   "source": [
    "# add some more vehicles, randomly select vehicles from the blueprint library\n",
    "for i in range(30):\n",
    "    vehicle_bp=random.choice(bp_lib.filter('vehicle')) \n",
    "    npc=world.try_spawn_actor(vehicle_bp, random.choice(spawn_points))"
   ]
  },
  {
   "cell_type": "markdown",
   "id": "ee78acac-7d92-469d-aa20-d496c44488d9",
   "metadata": {},
   "source": [
    "### Autopilot mode will subscribe a vehicle to the Traffic Manager to simulate real urban conditions. \n",
    "### This module is hard-coded, not based on machine learning."
   ]
  },
  {
   "cell_type": "code",
   "execution_count": 11,
   "id": "b34bcfeb-7f1a-47c0-806e-31ceb26cdcc8",
   "metadata": {
    "tags": []
   },
   "outputs": [],
   "source": [
    "# by this, it will hand over control of each vehicles to the traffic manager and they will move around the city\n",
    "\n",
    "for v in world.get_actors().filter('*vehicle*'):\n",
    "    v.set_autopilot(True)"
   ]
  },
  {
   "cell_type": "code",
   "execution_count": 12,
   "id": "8c9c9a71-ad7d-4350-91ec-843109a776cd",
   "metadata": {
    "tags": []
   },
   "outputs": [],
   "source": [
    "# recording data using sensors\n",
    "\n",
    "camera_bp=bp_lib.find('sensor.camera.rgb')\n",
    "camera_init_trans=carla.Transform(carla.Location(z=2))\n",
    "camera = world.spawn_actor(camera_bp, camera_init_trans, attach_to=vehicle) #record the data"
   ]
  },
  {
   "cell_type": "markdown",
   "id": "8d864c60-e4c7-4b9a-997e-16d4bfce0e1f",
   "metadata": {},
   "source": [
    "### listen(self, callback) \n",
    "### The function the sensor will be calling to every time a new measurement is received."
   ]
  },
  {
   "cell_type": "code",
   "execution_count": 31,
   "id": "6722aa9d-3fb5-42b6-93ff-58f2bebd2bf6",
   "metadata": {},
   "outputs": [],
   "source": [
    "# start the camera saving data to disk\n",
    "cc = carla.ColorConverter.CityScapesPalette\n",
    "camera.listen(lambda image:image.save_to_disk('output/%06d.png' % image.frame, cc))"
   ]
  },
  {
   "cell_type": "code",
   "execution_count": 32,
   "id": "85f177fa-8523-4c36-b075-9188fa71ffe7",
   "metadata": {
    "tags": []
   },
   "outputs": [],
   "source": [
    "# Stop the camera when we've recorded enough data\n",
    "camera.stop()"
   ]
  },
  {
   "cell_type": "code",
   "execution_count": 39,
   "id": "1fe0a55d-35a4-4ad3-9067-06828e495090",
   "metadata": {
    "tags": []
   },
   "outputs": [
    {
     "data": {
      "text/plain": [
       "'C:/Users/USER/workspace/carla/carla/Unreal/CarlaUE4/Saved/recording01.log'"
      ]
     },
     "execution_count": 39,
     "metadata": {},
     "output_type": "execute_result"
    }
   ],
   "source": [
    "# client.start_recorder(\"recording01.log\")"
   ]
  },
  {
   "cell_type": "code",
   "execution_count": 34,
   "id": "a8d4a882-cd67-460e-9f54-40040de8d5b4",
   "metadata": {
    "tags": []
   },
   "outputs": [],
   "source": [
    "# client.stop_recorder()"
   ]
  },
  {
   "cell_type": "code",
   "execution_count": 38,
   "id": "bfd5325d-c07e-4c12-992c-34409fc388aa",
   "metadata": {
    "tags": []
   },
   "outputs": [
    {
     "ename": "ArgumentError",
     "evalue": "Python argument types in\n    Client.show_recorder_file_info(Client, str)\ndid not match C++ signature:\n    show_recorder_file_info(class carla::client::Client {lvalue}, class std::basic_string<char,struct std::char_traits<char>,class std::allocator<char> > name, bool show_all)",
     "output_type": "error",
     "traceback": [
      "\u001b[1;31m---------------------------------------------------------------------------\u001b[0m",
      "\u001b[1;31mArgumentError\u001b[0m                             Traceback (most recent call last)",
      "\u001b[1;32m~\\AppData\\Local\\Temp\\ipykernel_28304\\2377910324.py\u001b[0m in \u001b[0;36m<module>\u001b[1;34m\u001b[0m\n\u001b[1;32m----> 1\u001b[1;33m \u001b[0mclient\u001b[0m\u001b[1;33m.\u001b[0m\u001b[0mshow_recorder_file_info\u001b[0m\u001b[1;33m(\u001b[0m\u001b[1;34m\"recording01.log\"\u001b[0m\u001b[1;33m)\u001b[0m\u001b[1;33m\u001b[0m\u001b[1;33m\u001b[0m\u001b[0m\n\u001b[0m",
      "\u001b[1;31mArgumentError\u001b[0m: Python argument types in\n    Client.show_recorder_file_info(Client, str)\ndid not match C++ signature:\n    show_recorder_file_info(class carla::client::Client {lvalue}, class std::basic_string<char,struct std::char_traits<char>,class std::allocator<char> > name, bool show_all)"
     ]
    }
   ],
   "source": [
    "# client.show_recorder_file_info(\"recording01.log\")"
   ]
  },
  {
   "cell_type": "code",
   "execution_count": 37,
   "id": "a2f5095f-6346-4b89-ab22-bb3f81eb1723",
   "metadata": {
    "tags": []
   },
   "outputs": [
    {
     "ename": "ArgumentError",
     "evalue": "Python argument types in\n    Client.replay_file(Client, str)\ndid not match C++ signature:\n    replay_file(class carla::client::Client {lvalue}, class std::basic_string<char,struct std::char_traits<char>,class std::allocator<char> > name, double time_start, double duration, unsigned int follow_id, bool replay_sensors=False)",
     "output_type": "error",
     "traceback": [
      "\u001b[1;31m---------------------------------------------------------------------------\u001b[0m",
      "\u001b[1;31mArgumentError\u001b[0m                             Traceback (most recent call last)",
      "\u001b[1;32m~\\AppData\\Local\\Temp\\ipykernel_28304\\2136866991.py\u001b[0m in \u001b[0;36m<module>\u001b[1;34m\u001b[0m\n\u001b[1;32m----> 1\u001b[1;33m \u001b[0mclient\u001b[0m\u001b[1;33m.\u001b[0m\u001b[0mreplay_file\u001b[0m\u001b[1;33m(\u001b[0m\u001b[1;34m\"/carla/Unreal/CarlaUE4/Saved/recording01.log\"\u001b[0m\u001b[1;33m)\u001b[0m\u001b[1;33m\u001b[0m\u001b[1;33m\u001b[0m\u001b[0m\n\u001b[0m",
      "\u001b[1;31mArgumentError\u001b[0m: Python argument types in\n    Client.replay_file(Client, str)\ndid not match C++ signature:\n    replay_file(class carla::client::Client {lvalue}, class std::basic_string<char,struct std::char_traits<char>,class std::allocator<char> > name, double time_start, double duration, unsigned int follow_id, bool replay_sensors=False)"
     ]
    }
   ],
   "source": [
    "# client.replay_file(\"./carla/Unreal/CarlaUE4/Saved/recording01.log\")"
   ]
  },
  {
   "cell_type": "code",
   "execution_count": null,
   "id": "4c4a9c41-16ca-4550-bba8-ebdce85898e8",
   "metadata": {},
   "outputs": [],
   "source": []
  }
 ],
 "metadata": {
  "kernelspec": {
   "display_name": "Python 3 (ipykernel)",
   "language": "python",
   "name": "python3"
  },
  "language_info": {
   "codemirror_mode": {
    "name": "ipython",
    "version": 3
   },
   "file_extension": ".py",
   "mimetype": "text/x-python",
   "name": "python",
   "nbconvert_exporter": "python",
   "pygments_lexer": "ipython3",
   "version": "3.7.16"
  }
 },
 "nbformat": 4,
 "nbformat_minor": 5
}

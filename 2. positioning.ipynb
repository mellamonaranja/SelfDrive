{
 "cells": [
  {
   "cell_type": "markdown",
   "id": "5d14d489-d4b1-45b7-98bf-7f32d0cfcb96",
   "metadata": {},
   "source": [
    "# Case : Getting a simple navigation route from point A to point B"
   ]
  },
  {
   "cell_type": "code",
   "execution_count": 1,
   "id": "e263f825-8025-4434-8a64-eb6fc7d2dbb5",
   "metadata": {
    "tags": []
   },
   "outputs": [],
   "source": [
    "import carla"
   ]
  },
  {
   "cell_type": "code",
   "execution_count": 2,
   "id": "6bc1fe5d-e0a6-4652-9da2-b82eb8901dba",
   "metadata": {
    "tags": []
   },
   "outputs": [],
   "source": [
    "client=carla.Client('localhost',2000)\n",
    "\n",
    "world=client.get_world()\n",
    "spawn_points=world.get_map().get_spawn_points()\n",
    "\n"
   ]
  },
  {
   "cell_type": "code",
   "execution_count": 3,
   "id": "86b75ae9-b944-4463-809f-76e967470044",
   "metadata": {},
   "outputs": [],
   "source": [
    "vehicle_bp=world.get_blueprint_library().filter('*firetruck*')\n",
    "start_point=spawn_points[0]\n",
    "vehicle=world.try_spawn_actor(vehicle_bp[0], start_point)"
   ]
  },
  {
   "cell_type": "code",
   "execution_count": 4,
   "id": "3fe154c6-03a4-442f-bb6c-29298794d110",
   "metadata": {
    "tags": []
   },
   "outputs": [
    {
     "name": "stdout",
     "output_type": "stream",
     "text": [
      "Transform(Location(x=106.418465, y=-12.711902, z=-0.001324), Rotation(pitch=-0.000615, yaw=-89.609215, roll=-0.009644))\n"
     ]
    }
   ],
   "source": [
    "# get car's position on the map\n",
    "\n",
    "vehicle_pos=vehicle.get_transform()\n",
    "print(vehicle_pos)"
   ]
  },
  {
   "cell_type": "code",
   "execution_count": 5,
   "id": "cdb866bd-b4af-4446-8f7b-7bf9e16c66be",
   "metadata": {
    "tags": []
   },
   "outputs": [
    {
     "name": "stdout",
     "output_type": "stream",
     "text": [
      "Transform(Location(x=106.416290, y=-12.711931, z=0.599999), Rotation(pitch=0.000000, yaw=-89.609253, roll=0.000000))\n"
     ]
    }
   ],
   "source": [
    "#initial spawn point is the same - just a little bit higher off the ground\n",
    "print(start_point)"
   ]
  },
  {
   "cell_type": "code",
   "execution_count": 6,
   "id": "f7c9081e-c0bd-48c9-9905-2ea34a0d84f6",
   "metadata": {
    "tags": []
   },
   "outputs": [],
   "source": [
    "# send vehicle off\n",
    "\n",
    "vehicle.set_autopilot(True)"
   ]
  },
  {
   "cell_type": "code",
   "execution_count": 7,
   "id": "f86cf203-f6b0-4b3c-a93e-7dee06eab427",
   "metadata": {
    "tags": []
   },
   "outputs": [
    {
     "name": "stdout",
     "output_type": "stream",
     "text": [
      "Transform(Location(x=106.419762, y=-13.042729, z=-0.005207), Rotation(pitch=0.103764, yaw=-89.621635, roll=0.002015))\n"
     ]
    }
   ],
   "source": [
    "# get actual position from the car moving\n",
    "\n",
    "vehicle_pos=vehicle.get_transform()\n",
    "print(vehicle_pos)"
   ]
  },
  {
   "cell_type": "code",
   "execution_count": 8,
   "id": "f1258848-fce0-4938-a7a2-4b0ff767e56f",
   "metadata": {
    "tags": []
   },
   "outputs": [
    {
     "name": "stdout",
     "output_type": "stream",
     "text": [
      "<class 'carla.libcarla.Map'>\n",
      "Map(name=Carla/Maps/Town10HD_Opt)\n"
     ]
    }
   ],
   "source": [
    "# look at the map\n",
    "\n",
    "town_map=world.get_map()\n",
    "print(type(town_map))\n",
    "print(town_map)"
   ]
  },
  {
   "cell_type": "markdown",
   "id": "b772e584-6c31-435c-9d5c-37c9ea33ec56",
   "metadata": {
    "tags": []
   },
   "source": [
    "### topology is pairs of waypoints defining all roads - tuples of those"
   ]
  },
  {
   "cell_type": "code",
   "execution_count": 9,
   "id": "e9ffe304-feb1-423d-b8d0-18872afd4d0c",
   "metadata": {
    "tags": []
   },
   "outputs": [
    {
     "name": "stdout",
     "output_type": "stream",
     "text": [
      "[(<carla.libcarla.Waypoint object at 0x0000017F221AA1B0>, <carla.libcarla.Waypoint object at 0x0000017F221AA150>), (<carla.libcarla.Waypoint object at 0x0000017F221AA270>, <carla.libcarla.Waypoint object at 0x0000017F221AA210>), (<carla.libcarla.Waypoint object at 0x0000017F221AA2D0>, <carla.libcarla.Waypoint object at 0x0000017F221AA330>)]\n"
     ]
    }
   ],
   "source": [
    "roads=town_map.get_topology()\n",
    "print(roads[0:3])"
   ]
  },
  {
   "cell_type": "code",
   "execution_count": null,
   "id": "dfff541d-4baa-41e2-9d4a-51926a264271",
   "metadata": {
    "tags": []
   },
   "outputs": [],
   "source": [
    "len(roads)"
   ]
  },
  {
   "cell_type": "code",
   "execution_count": 10,
   "id": "0d622cfb-feb1-4d10-bf4a-c95d152e6b6b",
   "metadata": {
    "tags": []
   },
   "outputs": [],
   "source": [
    "import sys\n",
    "sys.path.append('C:/Users/USER/workspace/carla/carla/PythonAPI/carla')\n",
    "from agents.navigation.global_route_planner import GlobalRoutePlanner"
   ]
  },
  {
   "cell_type": "markdown",
   "id": "928f6a07-d275-41aa-9c2a-1ba8db84d28d",
   "metadata": {},
   "source": [
    "### def trace_route(self, origin, destination):\n",
    "        \n",
    "        This method returns list of (carla.Waypoint, RoadOption)\n",
    "        from origin to destination\n",
    "        "
   ]
  },
  {
   "cell_type": "code",
   "execution_count": 11,
   "id": "5a198d55-6791-4464-b869-be7e53f805c4",
   "metadata": {
    "tags": []
   },
   "outputs": [
    {
     "name": "stdout",
     "output_type": "stream",
     "text": [
      "(<carla.libcarla.Waypoint object at 0x0000017F421A93F0>, <RoadOption.LANEFOLLOW: 4>)\n",
      "(<carla.libcarla.Waypoint object at 0x0000017F421A96F0>, <RoadOption.LANEFOLLOW: 4>)\n"
     ]
    }
   ],
   "source": [
    "# using the code to plan the route and then draw it in the simulator\n",
    "\n",
    "sampling_resolution=2\n",
    "grp=GlobalRoutePlanner(town_map, sampling_resolution)\n",
    "\n",
    "point_a=carla.Location(x=106.416290, y=-12.711931, z=0.599999)\n",
    "point_b=carla.Location(x=68.852333, y=-69.255646, z=0.000872)\n",
    "\n",
    "route=grp.trace_route(point_a,point_b) #current_waypoint, destination\n",
    "\n",
    "print(route[0])\n",
    "print(route[1])"
   ]
  },
  {
   "cell_type": "code",
   "execution_count": 12,
   "id": "e4faf60d-75ce-496c-8adb-67cf570198be",
   "metadata": {
    "tags": []
   },
   "outputs": [],
   "source": [
    "for waypoint in route:\n",
    "    world.debug.draw_string(waypoint[0].transform.location, '^', draw_shadow=False, color=carla.Color(0,0,255), life_time=120.0, persistent_lines=True)"
   ]
  },
  {
   "cell_type": "code",
   "execution_count": 13,
   "id": "d57f1f27-f85a-4c6d-a8db-20fa042a1bad",
   "metadata": {
    "tags": []
   },
   "outputs": [],
   "source": [
    "# utility script of destruction\n",
    "\n",
    "for actor in world.get_actors().filter('*vehicle*'):\n",
    "    actor.destroy()\n",
    "    \n",
    "for sensor in world.get_actors().filter('*sensor*'):\n",
    "    sensor.destroy()"
   ]
  },
  {
   "cell_type": "code",
   "execution_count": 14,
   "id": "a94a668b-4e4a-4286-bec7-45f56d3c368e",
   "metadata": {
    "tags": []
   },
   "outputs": [],
   "source": [
    "# define 2 cars\n",
    "\n",
    "truck_bp=world.get_blueprint_library().filter('*firetruck*')\n",
    "mini_bp=world.get_blueprint_library().filter('*cooper_s*')"
   ]
  },
  {
   "cell_type": "code",
   "execution_count": null,
   "id": "b72a297b-66cb-4df4-8fe3-c2fdf9c6d19a",
   "metadata": {
    "tags": []
   },
   "outputs": [],
   "source": [
    "print(truck_bp)\n",
    "print(truck_bp[0])"
   ]
  },
  {
   "cell_type": "code",
   "execution_count": 15,
   "id": "1faacaf0-4c27-4159-a247-f55760a300db",
   "metadata": {
    "tags": []
   },
   "outputs": [
    {
     "name": "stdout",
     "output_type": "stream",
     "text": [
      "Actor(id=25, type=vehicle.carlamotors.firetruck)\n"
     ]
    }
   ],
   "source": [
    "# start first car in the already defined start point\n",
    "\n",
    "truck=world.try_spawn_actor(truck_bp[0], start_point)\n",
    "print(truck)"
   ]
  },
  {
   "cell_type": "code",
   "execution_count": 16,
   "id": "d69836a2-e72c-44a7-8fbb-ea0fa4819cfd",
   "metadata": {
    "tags": []
   },
   "outputs": [],
   "source": [
    "# tweak spectator position to watch the show\n",
    "\n",
    "spectator=world.get_spectator()\n",
    "spawn_points=world.get_map().get_spawn_points()\n",
    "start_point=spawn_points[0]\n",
    "\n",
    "spectator_pos=carla.Transform(start_point.location+carla.Location(x=20, y=10,z=4),\n",
    "                             carla.Rotation(yaw=start_point.rotation.yaw-155))\n",
    "\n",
    "spectator.set_transform(spectator_pos)"
   ]
  },
  {
   "cell_type": "code",
   "execution_count": 19,
   "id": "e06ed0f2-3020-48ef-92c8-80b412653af8",
   "metadata": {
    "tags": []
   },
   "outputs": [],
   "source": [
    "#drop the Mini from the sky\n",
    "\n",
    "mini=world.try_spawn_actor(mini_bp[0], spawn_points[10])\n",
    "\n",
    "mini_pos=carla.Transform(start_point.location+carla.Location(x=0,z=10),\n",
    "                             carla.Rotation(yaw=start_point.rotation.yaw-0))\n",
    "\n",
    "mini.set_transform(mini_pos)"
   ]
  }
 ],
 "metadata": {
  "kernelspec": {
   "display_name": "Python 3 (ipykernel)",
   "language": "python",
   "name": "python3"
  },
  "language_info": {
   "codemirror_mode": {
    "name": "ipython",
    "version": 3
   },
   "file_extension": ".py",
   "mimetype": "text/x-python",
   "name": "python",
   "nbconvert_exporter": "python",
   "pygments_lexer": "ipython3",
   "version": "3.7.16"
  }
 },
 "nbformat": 4,
 "nbformat_minor": 5
}

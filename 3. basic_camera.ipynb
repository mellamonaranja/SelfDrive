{
 "cells": [
  {
   "cell_type": "code",
   "execution_count": 1,
   "id": "7690715f-985a-4206-95b9-28edc68adee3",
   "metadata": {
    "tags": []
   },
   "outputs": [],
   "source": [
    "import carla\n",
    "import random\n",
    "import cv2 #to work with images from cameras\n",
    "import numpy as np"
   ]
  },
  {
   "cell_type": "code",
   "execution_count": 2,
   "id": "969386f1-8d39-468c-8fce-1ef72a4ec4c0",
   "metadata": {
    "tags": []
   },
   "outputs": [],
   "source": [
    "client=carla.Client('localhost',2000)"
   ]
  },
  {
   "cell_type": "markdown",
   "id": "6ec348db-9658-4646-a507-9e816b3c3e87",
   "metadata": {},
   "source": [
    "# load_world(self, map_name, reset_settings=True, map_layers=carla.MapLayer.All)\n",
    "\n",
    "    Creates a new world with default settings using map_name map. All actors in the current world will be destroyed."
   ]
  },
  {
   "cell_type": "code",
   "execution_count": 3,
   "id": "724a735f-56a2-40bc-9b1d-392fb9d718b3",
   "metadata": {
    "tags": []
   },
   "outputs": [
    {
     "data": {
      "text/plain": [
       "<carla.libcarla.World at 0x248d3532f10>"
      ]
     },
     "execution_count": 3,
     "metadata": {},
     "output_type": "execute_result"
    }
   ],
   "source": [
    "# It does not necessary to load again once it download\n",
    "\n",
    "client.load_world('Town05')"
   ]
  },
  {
   "cell_type": "code",
   "execution_count": 4,
   "id": "7a45ca01-f802-418b-9bc6-b14a6bdcc1a0",
   "metadata": {
    "tags": []
   },
   "outputs": [],
   "source": [
    "world=client.get_world()\n",
    "spawn_points=world.get_map().get_spawn_points()"
   ]
  },
  {
   "cell_type": "code",
   "execution_count": 5,
   "id": "0ecb0a71-23ba-435b-946f-42628b67dd58",
   "metadata": {
    "tags": []
   },
   "outputs": [],
   "source": [
    "vehicle_bp=world.get_blueprint_library().filter('*mini*')"
   ]
  },
  {
   "cell_type": "code",
   "execution_count": 5,
   "id": "2c46a9b5-9683-4b3b-889e-831965931c4c",
   "metadata": {
    "tags": []
   },
   "outputs": [
    {
     "data": {
      "text/plain": [
       "<carla.libcarla.ActorBlueprint at 0x18f0c280230>"
      ]
     },
     "execution_count": 5,
     "metadata": {},
     "output_type": "execute_result"
    }
   ],
   "source": [
    "vehicle_bp[1]"
   ]
  },
  {
   "cell_type": "code",
   "execution_count": 6,
   "id": "42939872-9b60-4385-91f2-e4f240b76d24",
   "metadata": {
    "tags": []
   },
   "outputs": [],
   "source": [
    "start_point=random.choice(spawn_points)\n",
    "vehicle=world.try_spawn_actor(vehicle_bp[0], start_point)"
   ]
  },
  {
   "cell_type": "code",
   "execution_count": 39,
   "id": "9fa6b536-a486-446a-acbf-13fd6e0aae97",
   "metadata": {
    "tags": []
   },
   "outputs": [],
   "source": [
    "spectator=world.get_spectator()\n",
    "start_point.location.z=start_point.location.z+1\n",
    "spectator.set_transform(start_point)\n",
    "\n",
    "vehicle.set_autopilot(True)"
   ]
  },
  {
   "cell_type": "markdown",
   "id": "47438390-7ceb-45a1-a546-335f7ee1258a",
   "metadata": {},
   "source": [
    "# set_attribute(self, id, value) :\n",
    "    If the id attribute is modifiable, changes its value to value.\n",
    "    id (str) - The identifier for the attribute that is intended to be changed.\n",
    "    value (str) - The new value for said attribute."
   ]
  },
  {
   "cell_type": "code",
   "execution_count": 51,
   "id": "ed1dbb44-e935-4c03-9df3-adbe83c18bdb",
   "metadata": {
    "tags": []
   },
   "outputs": [],
   "source": [
    "CAMERA_POS_Z=1.6 #1.6m up from the ground\n",
    "CAMERA_POS_X=0.9 #0.9m forward\n",
    "\n",
    "camera_bp=world.get_blueprint_library().find('sensor.camera.rgb')\n",
    "camera_bp.set_attribute('image_size_x', '640') #640 pixels tall\n",
    "camera_bp.set_attribute('image_size_y', '360') #360 pixels wide\n",
    "\n",
    "camera_init_trans=carla.Transform(carla.Location(z=CAMERA_POS_Z, x=CAMERA_POS_X))\n",
    "# camera = world.spawn_actor(camera_bp,camera_init_trans,attach_to=vehicle)\n",
    "camera = world.spawn_actor(camera_bp,camera_init_trans)"
   ]
  },
  {
   "cell_type": "markdown",
   "id": "28495a1a-076c-451e-a8ce-c88100736e17",
   "metadata": {
    "tags": []
   },
   "source": [
    "# carla.Image\n",
    "    Class that defines an image of 32-bit BGRA colors that will be used as initial data retrieved by camera sensors. There are different camera sensors (currently three, RGB, depth and semantic segmentation) and each of these makes different use for the images.\n",
    "    \n",
    "    -fov (float - degrees):Horizontal field of view of the image.\n",
    "    -height (int):Image height in pixels.\n",
    "    -width (int):Image width in pixels.\n",
    "    -raw_data (bytes):Flattened array of pixel data, use reshape to create an image array."
   ]
  },
  {
   "cell_type": "markdown",
   "id": "e2022695-1693-4b5c-8751-22a260894fcc",
   "metadata": {},
   "source": [
    "# image returns dict type???"
   ]
  },
  {
   "cell_type": "markdown",
   "id": "3b667fc3-4ce2-4dc7-aeee-f9414f2f542e",
   "metadata": {},
   "source": [
    "# get_attribute(self, id) :\n",
    "    Returns the actor's attribute with id as identifier if existing."
   ]
  },
  {
   "cell_type": "code",
   "execution_count": 52,
   "id": "b2eb0a31-c752-4358-a04e-80a84d764a88",
   "metadata": {
    "tags": []
   },
   "outputs": [],
   "source": [
    "def camera_callback(image, data_dict):\n",
    "    data_dict['image']=np.reshape(np.copy(image.raw_data), (image.height, image.width, 4))\n",
    "    \n",
    "image_w=camera_bp.get_attribute('image_size_x').as_int()\n",
    "image_h=camera_bp.get_attribute('image_size_y').as_int()\n",
    "\n",
    "camera_data={'image':np.zeros((image_h, image_w, 4))}"
   ]
  },
  {
   "cell_type": "code",
   "execution_count": 57,
   "id": "03895cc5-c49c-48a7-a955-0cb09a093cb3",
   "metadata": {
    "tags": []
   },
   "outputs": [],
   "source": [
    "camera.listen(lambda image:image.save_to_disk('out/%06d.png'% image.frame))"
   ]
  },
  {
   "cell_type": "markdown",
   "id": "3138b542-5a7c-4b29-a845-0905642953cf",
   "metadata": {
    "tags": []
   },
   "source": [
    "# computer vision\n",
    "    the way of teaching intelligence to machine and making them see things like humans. What allows computers to see and process visual data like humans, analyzing images to produce useful information\n",
    "\n",
    "# OpenCV\n",
    "    vision library of programming functions mainly aimed at real time computer vision. it can be showed a digital image seen by a computer in matrix\n",
    "    \n",
    "# namedWindow() :\n",
    "    is used to create a window with a suitable name and size to display images and videos on the screen.\n",
    "    \n",
    "# WINDOW_NORMAL : \n",
    "    it enables you to resize the window\n",
    "   \n",
    "# WINDOW_AUTOSIZE: \n",
    "    it adjusts automatically the window size to fit the displayed image (see imshow ), and you cannot change the window size manually"
   ]
  },
  {
   "cell_type": "code",
   "execution_count": 54,
   "id": "5893d417-5000-4a62-81b0-5e01e6026a70",
   "metadata": {
    "tags": []
   },
   "outputs": [],
   "source": [
    "cv2.namedWindow('RGB Camera', cv2.WINDOW_AUTOSIZE)\n",
    "cv2.imshow('RGB Camera', camera_data['image'])\n",
    "\n",
    "while(True):\n",
    "    if cv2.waitKey(1) & 0xFF==ord('x'):\n",
    "        cv2.destroyAllWindows()\n",
    "        break"
   ]
  },
  {
   "cell_type": "code",
   "execution_count": 44,
   "id": "12e5e027-8833-49a0-b608-ed75c4006c84",
   "metadata": {
    "tags": []
   },
   "outputs": [],
   "source": [
    "# cv2.namedWindow('RGB Camera', cv2.WINDOW_AUTOSIZE)\n",
    "# cv2.imshow('RGB Camera', camera_data['image'])\n",
    "# cv2.waitKey(1)\n",
    "\n",
    "# while cv2.waitKey(0)==-1:\n",
    "#     cv2.imshow('RGB Camera', camera_data['image'])\n",
    "#     if cv2.waitKey(1)==ord('q'):\n",
    "#         break"
   ]
  },
  {
   "cell_type": "code",
   "execution_count": 61,
   "id": "d90515fe-46c5-4aa9-8ea3-32c57de5d778",
   "metadata": {
    "tags": []
   },
   "outputs": [],
   "source": [
    "camera.stop() #this is the opposite of camera.listen\n",
    "\n",
    "for actor in world.get_actors().filter('*vehicle*'):\n",
    "    actor.destroy()\n",
    "    \n",
    "for sensor in world.get_actors().filter('*sensor*'):\n",
    "    sensor.destroy()"
   ]
  },
  {
   "cell_type": "code",
   "execution_count": 62,
   "id": "4cf0bd87-3fc2-4d82-aaa1-ba2026d5898a",
   "metadata": {
    "tags": []
   },
   "outputs": [],
   "source": [
    "cv2.destroyAllWindows()"
   ]
  }
 ],
 "metadata": {
  "kernelspec": {
   "display_name": "Python 3 (ipykernel)",
   "language": "python",
   "name": "python3"
  },
  "language_info": {
   "codemirror_mode": {
    "name": "ipython",
    "version": 3
   },
   "file_extension": ".py",
   "mimetype": "text/x-python",
   "name": "python",
   "nbconvert_exporter": "python",
   "pygments_lexer": "ipython3",
   "version": "3.7.16"
  }
 },
 "nbformat": 4,
 "nbformat_minor": 5
}
